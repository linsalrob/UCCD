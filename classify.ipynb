{
 "cells": [
  {
   "cell_type": "markdown",
   "metadata": {},
   "source": [
    "# Using machine learning to predict IBD and Ulcerative Colitis from the microbes present ... and using that data to identify the most important bacteria\n",
    "\n",
    "The IBDMD consortium have made a whole bunch of sequencing data related to IBD and UC available on [their website](https://ibdmdb.org/). In this example, I use two data sets to show how you can use pandas data frames and scikit-learn's random forest classifier to build a classifier that can detect IBD and UC, and use that classifier to identify the most important bacteria for discriminating IBD/UC from healthy samples.\n",
    "\n",
    "*First a note about the data and analysis:* [The consortium](https://ibdmdb.org/project/) have provided this data as-is and have not yet published it. This analysis was performed because I wanted to understand what the discriminatory bacteria were in this data set. It is not a publication-quality analysis as you will see, and _I will not publish the analysis. You should not publish the analysis either._ I provide this here as a cool machine learning example using free data that you can repeat and probably find something different.\n",
    "\n",
    "## Downloading the data\n",
    "\n",
    "There is a lot of data in their repository, but we are going to use two files:\n",
    "1. [The metadata file](https://ibdmdb.org/tunnel/cb/document/Public/HMP2/Metadata/hmp2_metadata.csv). This file has the list of sample IDs and whether they have IBD, UC, or are a control. There is a lot more data in this file than that, but for this simple example we are going to just use those two columns.\n",
    "2. [The taxonomic profiles from the metagenomes](https://ibdmdb.org/tunnel/cb/document/Public/HMP2/WGS/1812/taxonomic_profiles.tsv.gz). Their processing pipeline is not exactly clear, but it was done by the Huttenhower lab, so its probably done using [biobakery](https://www.ncbi.nlm.nih.gov/pubmed/29194469).\n",
    "\n",
    "I have downloaded and uncompressed those two files.\n",
    "\n",
    "_Note 1:_ I just uncompressed them to avoid using gzip.open, but you might want to consider that.\n",
    "\n",
    "_Note 2:_ I am just parsing the tsv file using a regular expression. You might want to consider downloading and importing the biom file which will allow a more robust interface to the data and allow you to explore other options."
   ]
  },
  {
   "cell_type": "code",
   "execution_count": 1,
   "metadata": {
    "collapsed": true
   },
   "outputs": [],
   "source": [
    "# Before we start, load our environment\n",
    "%matplotlib inline\n",
    "import os\n",
    "import re\n",
    "import sys\n",
    "import argparse\n",
    "import csv\n",
    "from sklearn.ensemble import RandomForestClassifier\n",
    "import pandas as pd\n",
    "import numpy as np"
   ]
  },
  {
   "cell_type": "markdown",
   "metadata": {},
   "source": [
    "# Read the metadata for the HMP project\n",
    "\n",
    "This is the data downloaded from the [IBDMD site](https://ibdmdb.org/tunnel/cb/document/Public/HMP2/Metadata/hmp2_metadata.csv)"
   ]
  },
  {
   "cell_type": "code",
   "execution_count": 2,
   "metadata": {
    "collapsed": false
   },
   "outputs": [
    {
     "name": "stdout",
     "output_type": "stream",
     "text": [
      "Diagnosis: CD : 2671 occurrences\n",
      "Diagnosis: UC : 1501 occurrences\n",
      "Diagnosis: nonIBD : 1338 occurrences\n"
     ]
    }
   ],
   "source": [
    "def read_metadata(fname='hmp2_metadata.csv'):\n",
    "    metadata={}\n",
    "    counts = {}\n",
    "    with open(fname, 'r') as fin:\n",
    "        header = fin.readline()\n",
    "        csvreader = csv.reader(fin, delimiter=',')\n",
    "        for row in csvreader:\n",
    "            metadata[row[1]] = row[69]\n",
    "            counts[row[69]] = counts.get(row[69], 0)+1\n",
    "\n",
    "    for row in counts:\n",
    "        print(\"Diagnosis: {} : {} occurrences\".format(row, counts[row]))\n",
    "\n",
    "    return metadata\n",
    "md=read_metadata()"
   ]
  },
  {
   "cell_type": "markdown",
   "metadata": {},
   "source": [
    "# Read the taxonomy file\n",
    "\n",
    "This is a taxonomy TSV file downloaded from the [IBDMD site too](https://ibdmdb.org/tunnel/cb/document/Public/HMP2/WGS/1812/taxonomic_profiles.tsv.gz)\n",
    "\n",
    "We just read this file in and identifier the species using a regular expression. This line\n",
    "```\n",
    "    m=re.search('\\|s__(\\w+)$', row[0])\n",
    "```\n",
    "\n",
    "is looking for something that starts '|s__' at the end of the first element in the table. That is the species counts, and so we keep those rows. If you change the s here to a g it will pull out genera. \n",
    "\n",
    "We are making a dict of dicts where our species are the first keys and our samples are the second keys. We'll see in a second how easy it is to convert that to a pandas dataframe."
   ]
  },
  {
   "cell_type": "code",
   "execution_count": 3,
   "metadata": {
    "collapsed": false
   },
   "outputs": [
    {
     "name": "stdout",
     "output_type": "stream",
     "text": [
      "There are 572 species in our file\n"
     ]
    }
   ],
   "source": [
    "def read_taxonomy(fname='taxonomic_profiles.tsv'):\n",
    "\n",
    "    header = None\n",
    "    counts = {}\n",
    "    with open(fname, 'r') as fin:\n",
    "        csvreader = csv.reader(fin, delimiter='\\t')\n",
    "        for row in csvreader:\n",
    "            if not header:\n",
    "                for i in range(1, len(row)):\n",
    "                    row[i]=row[i].replace('_taxonomic_profile', '')\n",
    "                header = row                    \n",
    "                continue\n",
    "            m=re.search('\\|s__(\\w+)$', row[0])\n",
    "            if not m:\n",
    "                continue\n",
    "            for hix in range(1, len(header)):\n",
    "                if m.groups()[0] not in counts:\n",
    "                    counts[m.groups()[0]] = {}\n",
    "                counts[m.groups()[0]][header[hix]] = float(row[hix])\n",
    "    return counts\n",
    "counts=read_taxonomy()\n",
    "print(\"There are {} species in our file\".format(len(counts)))"
   ]
  },
  {
   "cell_type": "markdown",
   "metadata": {},
   "source": [
    "# Make a pandas data frame from the data.\n",
    "\n",
    "Now we have both the metadata parsed and the species counts, we can make a metadata table using pandas. Note that we want to have the species in columns and the samples in rows which is why we set the dictionary up that way!\n",
    "\n",
    "This is trivial to convert to a table, and then we use head to have a look at the first few rows and see that we have numbers."
   ]
  },
  {
   "cell_type": "code",
   "execution_count": 4,
   "metadata": {
    "collapsed": false
   },
   "outputs": [
    {
     "data": {
      "text/html": [
       "<div>\n",
       "<table border=\"1\" class=\"dataframe\">\n",
       "  <thead>\n",
       "    <tr style=\"text-align: right;\">\n",
       "      <th></th>\n",
       "      <th>Abiotrophia_defectiva</th>\n",
       "      <th>Acidaminococcus_fermentans</th>\n",
       "      <th>Acidaminococcus_intestini</th>\n",
       "      <th>Acidaminococcus_sp_BV3L6</th>\n",
       "      <th>Acidaminococcus_sp_HPA0509</th>\n",
       "      <th>Acidaminococcus_unclassified</th>\n",
       "      <th>Acinetobacter_lwoffii</th>\n",
       "      <th>Acinetobacter_unclassified</th>\n",
       "      <th>Acinetobacter_ursingii</th>\n",
       "      <th>Actinobacillus_unclassified</th>\n",
       "      <th>...</th>\n",
       "      <th>Veillonella_ratti</th>\n",
       "      <th>Veillonella_unclassified</th>\n",
       "      <th>Vicia_cryptic_virus</th>\n",
       "      <th>Weissella_cibaria</th>\n",
       "      <th>Weissella_confusa</th>\n",
       "      <th>Weissella_phage_phiYS61</th>\n",
       "      <th>Weissella_unclassified</th>\n",
       "      <th>Wohlfahrtiimonas_chitiniclastica</th>\n",
       "      <th>Yersinia_enterocolitica</th>\n",
       "      <th>Yersinia_unclassified</th>\n",
       "    </tr>\n",
       "  </thead>\n",
       "  <tbody>\n",
       "    <tr>\n",
       "      <th>CSM5FZ3N_P</th>\n",
       "      <td>0.0</td>\n",
       "      <td>0.0</td>\n",
       "      <td>0.0</td>\n",
       "      <td>0.0</td>\n",
       "      <td>0.0</td>\n",
       "      <td>0.000000</td>\n",
       "      <td>0.0</td>\n",
       "      <td>0.0</td>\n",
       "      <td>0.0</td>\n",
       "      <td>0.0</td>\n",
       "      <td>...</td>\n",
       "      <td>0.0</td>\n",
       "      <td>0.000000</td>\n",
       "      <td>0.0</td>\n",
       "      <td>0.0</td>\n",
       "      <td>0.0</td>\n",
       "      <td>0.0</td>\n",
       "      <td>0.0</td>\n",
       "      <td>0.0</td>\n",
       "      <td>0.0</td>\n",
       "      <td>0.0</td>\n",
       "    </tr>\n",
       "    <tr>\n",
       "      <th>CSM5FZ3R_P</th>\n",
       "      <td>0.0</td>\n",
       "      <td>0.0</td>\n",
       "      <td>0.0</td>\n",
       "      <td>0.0</td>\n",
       "      <td>0.0</td>\n",
       "      <td>0.000000</td>\n",
       "      <td>0.0</td>\n",
       "      <td>0.0</td>\n",
       "      <td>0.0</td>\n",
       "      <td>0.0</td>\n",
       "      <td>...</td>\n",
       "      <td>0.0</td>\n",
       "      <td>0.000000</td>\n",
       "      <td>0.0</td>\n",
       "      <td>0.0</td>\n",
       "      <td>0.0</td>\n",
       "      <td>0.0</td>\n",
       "      <td>0.0</td>\n",
       "      <td>0.0</td>\n",
       "      <td>0.0</td>\n",
       "      <td>0.0</td>\n",
       "    </tr>\n",
       "    <tr>\n",
       "      <th>CSM5FZ3T_P</th>\n",
       "      <td>0.0</td>\n",
       "      <td>0.0</td>\n",
       "      <td>0.0</td>\n",
       "      <td>0.0</td>\n",
       "      <td>0.0</td>\n",
       "      <td>0.000000</td>\n",
       "      <td>0.0</td>\n",
       "      <td>0.0</td>\n",
       "      <td>0.0</td>\n",
       "      <td>0.0</td>\n",
       "      <td>...</td>\n",
       "      <td>0.0</td>\n",
       "      <td>0.000000</td>\n",
       "      <td>0.0</td>\n",
       "      <td>0.0</td>\n",
       "      <td>0.0</td>\n",
       "      <td>0.0</td>\n",
       "      <td>0.0</td>\n",
       "      <td>0.0</td>\n",
       "      <td>0.0</td>\n",
       "      <td>0.0</td>\n",
       "    </tr>\n",
       "    <tr>\n",
       "      <th>CSM5FZ3V_P</th>\n",
       "      <td>0.0</td>\n",
       "      <td>0.0</td>\n",
       "      <td>0.0</td>\n",
       "      <td>0.0</td>\n",
       "      <td>0.0</td>\n",
       "      <td>0.001363</td>\n",
       "      <td>0.0</td>\n",
       "      <td>0.0</td>\n",
       "      <td>0.0</td>\n",
       "      <td>0.0</td>\n",
       "      <td>...</td>\n",
       "      <td>0.0</td>\n",
       "      <td>0.000123</td>\n",
       "      <td>0.0</td>\n",
       "      <td>0.0</td>\n",
       "      <td>0.0</td>\n",
       "      <td>0.0</td>\n",
       "      <td>0.0</td>\n",
       "      <td>0.0</td>\n",
       "      <td>0.0</td>\n",
       "      <td>0.0</td>\n",
       "    </tr>\n",
       "    <tr>\n",
       "      <th>CSM5FZ3X_P</th>\n",
       "      <td>0.0</td>\n",
       "      <td>0.0</td>\n",
       "      <td>0.0</td>\n",
       "      <td>0.0</td>\n",
       "      <td>0.0</td>\n",
       "      <td>0.000000</td>\n",
       "      <td>0.0</td>\n",
       "      <td>0.0</td>\n",
       "      <td>0.0</td>\n",
       "      <td>0.0</td>\n",
       "      <td>...</td>\n",
       "      <td>0.0</td>\n",
       "      <td>0.000000</td>\n",
       "      <td>0.0</td>\n",
       "      <td>0.0</td>\n",
       "      <td>0.0</td>\n",
       "      <td>0.0</td>\n",
       "      <td>0.0</td>\n",
       "      <td>0.0</td>\n",
       "      <td>0.0</td>\n",
       "      <td>0.0</td>\n",
       "    </tr>\n",
       "  </tbody>\n",
       "</table>\n",
       "<p>5 rows × 572 columns</p>\n",
       "</div>"
      ],
      "text/plain": [
       "            Abiotrophia_defectiva  Acidaminococcus_fermentans  \\\n",
       "CSM5FZ3N_P                    0.0                         0.0   \n",
       "CSM5FZ3R_P                    0.0                         0.0   \n",
       "CSM5FZ3T_P                    0.0                         0.0   \n",
       "CSM5FZ3V_P                    0.0                         0.0   \n",
       "CSM5FZ3X_P                    0.0                         0.0   \n",
       "\n",
       "            Acidaminococcus_intestini  Acidaminococcus_sp_BV3L6  \\\n",
       "CSM5FZ3N_P                        0.0                       0.0   \n",
       "CSM5FZ3R_P                        0.0                       0.0   \n",
       "CSM5FZ3T_P                        0.0                       0.0   \n",
       "CSM5FZ3V_P                        0.0                       0.0   \n",
       "CSM5FZ3X_P                        0.0                       0.0   \n",
       "\n",
       "            Acidaminococcus_sp_HPA0509  Acidaminococcus_unclassified  \\\n",
       "CSM5FZ3N_P                         0.0                      0.000000   \n",
       "CSM5FZ3R_P                         0.0                      0.000000   \n",
       "CSM5FZ3T_P                         0.0                      0.000000   \n",
       "CSM5FZ3V_P                         0.0                      0.001363   \n",
       "CSM5FZ3X_P                         0.0                      0.000000   \n",
       "\n",
       "            Acinetobacter_lwoffii  Acinetobacter_unclassified  \\\n",
       "CSM5FZ3N_P                    0.0                         0.0   \n",
       "CSM5FZ3R_P                    0.0                         0.0   \n",
       "CSM5FZ3T_P                    0.0                         0.0   \n",
       "CSM5FZ3V_P                    0.0                         0.0   \n",
       "CSM5FZ3X_P                    0.0                         0.0   \n",
       "\n",
       "            Acinetobacter_ursingii  Actinobacillus_unclassified  \\\n",
       "CSM5FZ3N_P                     0.0                          0.0   \n",
       "CSM5FZ3R_P                     0.0                          0.0   \n",
       "CSM5FZ3T_P                     0.0                          0.0   \n",
       "CSM5FZ3V_P                     0.0                          0.0   \n",
       "CSM5FZ3X_P                     0.0                          0.0   \n",
       "\n",
       "                    ...            Veillonella_ratti  \\\n",
       "CSM5FZ3N_P          ...                          0.0   \n",
       "CSM5FZ3R_P          ...                          0.0   \n",
       "CSM5FZ3T_P          ...                          0.0   \n",
       "CSM5FZ3V_P          ...                          0.0   \n",
       "CSM5FZ3X_P          ...                          0.0   \n",
       "\n",
       "            Veillonella_unclassified  Vicia_cryptic_virus  Weissella_cibaria  \\\n",
       "CSM5FZ3N_P                  0.000000                  0.0                0.0   \n",
       "CSM5FZ3R_P                  0.000000                  0.0                0.0   \n",
       "CSM5FZ3T_P                  0.000000                  0.0                0.0   \n",
       "CSM5FZ3V_P                  0.000123                  0.0                0.0   \n",
       "CSM5FZ3X_P                  0.000000                  0.0                0.0   \n",
       "\n",
       "            Weissella_confusa  Weissella_phage_phiYS61  \\\n",
       "CSM5FZ3N_P                0.0                      0.0   \n",
       "CSM5FZ3R_P                0.0                      0.0   \n",
       "CSM5FZ3T_P                0.0                      0.0   \n",
       "CSM5FZ3V_P                0.0                      0.0   \n",
       "CSM5FZ3X_P                0.0                      0.0   \n",
       "\n",
       "            Weissella_unclassified  Wohlfahrtiimonas_chitiniclastica  \\\n",
       "CSM5FZ3N_P                     0.0                               0.0   \n",
       "CSM5FZ3R_P                     0.0                               0.0   \n",
       "CSM5FZ3T_P                     0.0                               0.0   \n",
       "CSM5FZ3V_P                     0.0                               0.0   \n",
       "CSM5FZ3X_P                     0.0                               0.0   \n",
       "\n",
       "            Yersinia_enterocolitica  Yersinia_unclassified  \n",
       "CSM5FZ3N_P                      0.0                    0.0  \n",
       "CSM5FZ3R_P                      0.0                    0.0  \n",
       "CSM5FZ3T_P                      0.0                    0.0  \n",
       "CSM5FZ3V_P                      0.0                    0.0  \n",
       "CSM5FZ3X_P                      0.0                    0.0  \n",
       "\n",
       "[5 rows x 572 columns]"
      ]
     },
     "execution_count": 4,
     "metadata": {},
     "output_type": "execute_result"
    }
   ],
   "source": [
    "df = pd.DataFrame(counts)\n",
    "df.head()"
   ]
  },
  {
   "cell_type": "markdown",
   "metadata": {},
   "source": [
    "# Add a column for the classification\n",
    "\n",
    "Now we can add the metadata to our table. This is whether the patients have UC, IBD, or are a control. We add this to a new column called `diagnoses`, and that is what we are going to train our classifier on!\n",
    "\n",
    "However, our random forest requires that this is numeric, so we use `factorize` to convert this to a list of elements."
   ]
  },
  {
   "cell_type": "code",
   "execution_count": 5,
   "metadata": {
    "collapsed": false
   },
   "outputs": [],
   "source": [
    "df['diagnoses'] = pd.Series(md)"
   ]
  },
  {
   "cell_type": "markdown",
   "metadata": {},
   "source": [
    "Let's take a quick peek at the table see that it looks correct. If you scroll all the way to the right you will see the new column."
   ]
  },
  {
   "cell_type": "code",
   "execution_count": 6,
   "metadata": {
    "collapsed": false
   },
   "outputs": [
    {
     "data": {
      "text/html": [
       "<div>\n",
       "<table border=\"1\" class=\"dataframe\">\n",
       "  <thead>\n",
       "    <tr style=\"text-align: right;\">\n",
       "      <th></th>\n",
       "      <th>Abiotrophia_defectiva</th>\n",
       "      <th>Acidaminococcus_fermentans</th>\n",
       "      <th>Acidaminococcus_intestini</th>\n",
       "      <th>Acidaminococcus_sp_BV3L6</th>\n",
       "      <th>Acidaminococcus_sp_HPA0509</th>\n",
       "      <th>Acidaminococcus_unclassified</th>\n",
       "      <th>Acinetobacter_lwoffii</th>\n",
       "      <th>Acinetobacter_unclassified</th>\n",
       "      <th>Acinetobacter_ursingii</th>\n",
       "      <th>Actinobacillus_unclassified</th>\n",
       "      <th>...</th>\n",
       "      <th>Veillonella_unclassified</th>\n",
       "      <th>Vicia_cryptic_virus</th>\n",
       "      <th>Weissella_cibaria</th>\n",
       "      <th>Weissella_confusa</th>\n",
       "      <th>Weissella_phage_phiYS61</th>\n",
       "      <th>Weissella_unclassified</th>\n",
       "      <th>Wohlfahrtiimonas_chitiniclastica</th>\n",
       "      <th>Yersinia_enterocolitica</th>\n",
       "      <th>Yersinia_unclassified</th>\n",
       "      <th>diagnoses</th>\n",
       "    </tr>\n",
       "  </thead>\n",
       "  <tbody>\n",
       "    <tr>\n",
       "      <th>CSM5FZ3N_P</th>\n",
       "      <td>0.0</td>\n",
       "      <td>0.0</td>\n",
       "      <td>0.0</td>\n",
       "      <td>0.0</td>\n",
       "      <td>0.0</td>\n",
       "      <td>0.000000</td>\n",
       "      <td>0.0</td>\n",
       "      <td>0.0</td>\n",
       "      <td>0.0</td>\n",
       "      <td>0.0</td>\n",
       "      <td>...</td>\n",
       "      <td>0.000000</td>\n",
       "      <td>0.0</td>\n",
       "      <td>0.0</td>\n",
       "      <td>0.0</td>\n",
       "      <td>0.0</td>\n",
       "      <td>0.0</td>\n",
       "      <td>0.0</td>\n",
       "      <td>0.0</td>\n",
       "      <td>0.0</td>\n",
       "      <td>CD</td>\n",
       "    </tr>\n",
       "    <tr>\n",
       "      <th>CSM5FZ3R_P</th>\n",
       "      <td>0.0</td>\n",
       "      <td>0.0</td>\n",
       "      <td>0.0</td>\n",
       "      <td>0.0</td>\n",
       "      <td>0.0</td>\n",
       "      <td>0.000000</td>\n",
       "      <td>0.0</td>\n",
       "      <td>0.0</td>\n",
       "      <td>0.0</td>\n",
       "      <td>0.0</td>\n",
       "      <td>...</td>\n",
       "      <td>0.000000</td>\n",
       "      <td>0.0</td>\n",
       "      <td>0.0</td>\n",
       "      <td>0.0</td>\n",
       "      <td>0.0</td>\n",
       "      <td>0.0</td>\n",
       "      <td>0.0</td>\n",
       "      <td>0.0</td>\n",
       "      <td>0.0</td>\n",
       "      <td>CD</td>\n",
       "    </tr>\n",
       "    <tr>\n",
       "      <th>CSM5FZ3T_P</th>\n",
       "      <td>0.0</td>\n",
       "      <td>0.0</td>\n",
       "      <td>0.0</td>\n",
       "      <td>0.0</td>\n",
       "      <td>0.0</td>\n",
       "      <td>0.000000</td>\n",
       "      <td>0.0</td>\n",
       "      <td>0.0</td>\n",
       "      <td>0.0</td>\n",
       "      <td>0.0</td>\n",
       "      <td>...</td>\n",
       "      <td>0.000000</td>\n",
       "      <td>0.0</td>\n",
       "      <td>0.0</td>\n",
       "      <td>0.0</td>\n",
       "      <td>0.0</td>\n",
       "      <td>0.0</td>\n",
       "      <td>0.0</td>\n",
       "      <td>0.0</td>\n",
       "      <td>0.0</td>\n",
       "      <td>CD</td>\n",
       "    </tr>\n",
       "    <tr>\n",
       "      <th>CSM5FZ3V_P</th>\n",
       "      <td>0.0</td>\n",
       "      <td>0.0</td>\n",
       "      <td>0.0</td>\n",
       "      <td>0.0</td>\n",
       "      <td>0.0</td>\n",
       "      <td>0.001363</td>\n",
       "      <td>0.0</td>\n",
       "      <td>0.0</td>\n",
       "      <td>0.0</td>\n",
       "      <td>0.0</td>\n",
       "      <td>...</td>\n",
       "      <td>0.000123</td>\n",
       "      <td>0.0</td>\n",
       "      <td>0.0</td>\n",
       "      <td>0.0</td>\n",
       "      <td>0.0</td>\n",
       "      <td>0.0</td>\n",
       "      <td>0.0</td>\n",
       "      <td>0.0</td>\n",
       "      <td>0.0</td>\n",
       "      <td>CD</td>\n",
       "    </tr>\n",
       "    <tr>\n",
       "      <th>CSM5FZ3X_P</th>\n",
       "      <td>0.0</td>\n",
       "      <td>0.0</td>\n",
       "      <td>0.0</td>\n",
       "      <td>0.0</td>\n",
       "      <td>0.0</td>\n",
       "      <td>0.000000</td>\n",
       "      <td>0.0</td>\n",
       "      <td>0.0</td>\n",
       "      <td>0.0</td>\n",
       "      <td>0.0</td>\n",
       "      <td>...</td>\n",
       "      <td>0.000000</td>\n",
       "      <td>0.0</td>\n",
       "      <td>0.0</td>\n",
       "      <td>0.0</td>\n",
       "      <td>0.0</td>\n",
       "      <td>0.0</td>\n",
       "      <td>0.0</td>\n",
       "      <td>0.0</td>\n",
       "      <td>0.0</td>\n",
       "      <td>CD</td>\n",
       "    </tr>\n",
       "  </tbody>\n",
       "</table>\n",
       "<p>5 rows × 573 columns</p>\n",
       "</div>"
      ],
      "text/plain": [
       "            Abiotrophia_defectiva  Acidaminococcus_fermentans  \\\n",
       "CSM5FZ3N_P                    0.0                         0.0   \n",
       "CSM5FZ3R_P                    0.0                         0.0   \n",
       "CSM5FZ3T_P                    0.0                         0.0   \n",
       "CSM5FZ3V_P                    0.0                         0.0   \n",
       "CSM5FZ3X_P                    0.0                         0.0   \n",
       "\n",
       "            Acidaminococcus_intestini  Acidaminococcus_sp_BV3L6  \\\n",
       "CSM5FZ3N_P                        0.0                       0.0   \n",
       "CSM5FZ3R_P                        0.0                       0.0   \n",
       "CSM5FZ3T_P                        0.0                       0.0   \n",
       "CSM5FZ3V_P                        0.0                       0.0   \n",
       "CSM5FZ3X_P                        0.0                       0.0   \n",
       "\n",
       "            Acidaminococcus_sp_HPA0509  Acidaminococcus_unclassified  \\\n",
       "CSM5FZ3N_P                         0.0                      0.000000   \n",
       "CSM5FZ3R_P                         0.0                      0.000000   \n",
       "CSM5FZ3T_P                         0.0                      0.000000   \n",
       "CSM5FZ3V_P                         0.0                      0.001363   \n",
       "CSM5FZ3X_P                         0.0                      0.000000   \n",
       "\n",
       "            Acinetobacter_lwoffii  Acinetobacter_unclassified  \\\n",
       "CSM5FZ3N_P                    0.0                         0.0   \n",
       "CSM5FZ3R_P                    0.0                         0.0   \n",
       "CSM5FZ3T_P                    0.0                         0.0   \n",
       "CSM5FZ3V_P                    0.0                         0.0   \n",
       "CSM5FZ3X_P                    0.0                         0.0   \n",
       "\n",
       "            Acinetobacter_ursingii  Actinobacillus_unclassified    ...      \\\n",
       "CSM5FZ3N_P                     0.0                          0.0    ...       \n",
       "CSM5FZ3R_P                     0.0                          0.0    ...       \n",
       "CSM5FZ3T_P                     0.0                          0.0    ...       \n",
       "CSM5FZ3V_P                     0.0                          0.0    ...       \n",
       "CSM5FZ3X_P                     0.0                          0.0    ...       \n",
       "\n",
       "            Veillonella_unclassified  Vicia_cryptic_virus  Weissella_cibaria  \\\n",
       "CSM5FZ3N_P                  0.000000                  0.0                0.0   \n",
       "CSM5FZ3R_P                  0.000000                  0.0                0.0   \n",
       "CSM5FZ3T_P                  0.000000                  0.0                0.0   \n",
       "CSM5FZ3V_P                  0.000123                  0.0                0.0   \n",
       "CSM5FZ3X_P                  0.000000                  0.0                0.0   \n",
       "\n",
       "            Weissella_confusa  Weissella_phage_phiYS61  \\\n",
       "CSM5FZ3N_P                0.0                      0.0   \n",
       "CSM5FZ3R_P                0.0                      0.0   \n",
       "CSM5FZ3T_P                0.0                      0.0   \n",
       "CSM5FZ3V_P                0.0                      0.0   \n",
       "CSM5FZ3X_P                0.0                      0.0   \n",
       "\n",
       "            Weissella_unclassified  Wohlfahrtiimonas_chitiniclastica  \\\n",
       "CSM5FZ3N_P                     0.0                               0.0   \n",
       "CSM5FZ3R_P                     0.0                               0.0   \n",
       "CSM5FZ3T_P                     0.0                               0.0   \n",
       "CSM5FZ3V_P                     0.0                               0.0   \n",
       "CSM5FZ3X_P                     0.0                               0.0   \n",
       "\n",
       "            Yersinia_enterocolitica  Yersinia_unclassified  diagnoses  \n",
       "CSM5FZ3N_P                      0.0                    0.0         CD  \n",
       "CSM5FZ3R_P                      0.0                    0.0         CD  \n",
       "CSM5FZ3T_P                      0.0                    0.0         CD  \n",
       "CSM5FZ3V_P                      0.0                    0.0         CD  \n",
       "CSM5FZ3X_P                      0.0                    0.0         CD  \n",
       "\n",
       "[5 rows x 573 columns]"
      ]
     },
     "execution_count": 6,
     "metadata": {},
     "output_type": "execute_result"
    }
   ],
   "source": [
    "df.head()"
   ]
  },
  {
   "cell_type": "markdown",
   "metadata": {},
   "source": [
    "# Extract the features that we want to use in our random forest\n",
    "\n",
    "Now that we have merged everything, we extract the column names of the features that we want to use in our random forest. This just creates an index of the species that we have. Note that if you use genus you will need to change the 492 to something else!"
   ]
  },
  {
   "cell_type": "code",
   "execution_count": 7,
   "metadata": {
    "collapsed": true
   },
   "outputs": [],
   "source": [
    "features = df.columns[:492]"
   ]
  },
  {
   "cell_type": "markdown",
   "metadata": {},
   "source": [
    "# Create test and training sets.\n",
    "\n",
    "For our classifier, we are going to use some part of the data to train the random forest classifier, and some part of the data to test it. We are going to make a new column that says whether it is testing or training, and populate it so that 75% of the data is training and 25% of the data is for testing. You can change those variables here. Note also that in this study they have different data sets available, so you could use one data set for testing and one for training. (Remember the caveat that I am not going to publish this analysis, so there are a lot of things I _should_ do, but don't. This is one of those places a reviewer would likely ask _why?_)."
   ]
  },
  {
   "cell_type": "code",
   "execution_count": 8,
   "metadata": {
    "collapsed": false
   },
   "outputs": [
    {
     "name": "stdout",
     "output_type": "stream",
     "text": [
      "Data: (1638, 574)\n",
      "Training: (1253, 574)\n",
      "Testing: (385, 574)\n"
     ]
    }
   ],
   "source": [
    "df['is_train'] = np.random.uniform(0, 1, len(df)) <= .75\n",
    "train, test = df[df['is_train']==True], df[df['is_train']==False]\n",
    "print(\"Data: {}\\nTraining: {}\\nTesting: {}\".format(df.shape, train.shape, test.shape))"
   ]
  },
  {
   "cell_type": "markdown",
   "metadata": {},
   "source": [
    "# Create a factorized list of diagnoses\n",
    "\n",
    "The random forest requires the diagnoses to just be a list of integers rather than labels, and so we use factorize to split out the labels and the indexes. This will be the input to our random forest classifier. Note that we are just using the training set here, not the whole data frame.\n"
   ]
  },
  {
   "cell_type": "code",
   "execution_count": 9,
   "metadata": {
    "collapsed": false
   },
   "outputs": [
    {
     "data": {
      "text/plain": [
       "Index(['CD', 'UC', 'nonIBD'], dtype='object')"
      ]
     },
     "execution_count": 9,
     "metadata": {},
     "output_type": "execute_result"
    }
   ],
   "source": [
    "diagnosisfactors, labels = pd.factorize(train['diagnoses'])\n",
    "labels"
   ]
  },
  {
   "cell_type": "markdown",
   "metadata": {},
   "source": [
    "# Start a random classifier\n",
    "\n",
    "I leave most of this at the default (which is to use Gini as the measure of quality), and to bootstrap the trees."
   ]
  },
  {
   "cell_type": "code",
   "execution_count": 10,
   "metadata": {
    "collapsed": true
   },
   "outputs": [],
   "source": [
    "clf = RandomForestClassifier(n_jobs=-1)"
   ]
  },
  {
   "cell_type": "markdown",
   "metadata": {},
   "source": [
    "# Train the random forest\n",
    "\n",
    "Now we train our random forest on the training data using just the features that we are looking for and with our factorized list of diagnoses"
   ]
  },
  {
   "cell_type": "code",
   "execution_count": 11,
   "metadata": {
    "collapsed": false
   },
   "outputs": [
    {
     "data": {
      "text/plain": [
       "RandomForestClassifier(bootstrap=True, class_weight=None, criterion='gini',\n",
       "            max_depth=None, max_features='auto', max_leaf_nodes=None,\n",
       "            min_impurity_decrease=0.0, min_impurity_split=None,\n",
       "            min_samples_leaf=1, min_samples_split=2,\n",
       "            min_weight_fraction_leaf=0.0, n_estimators=10, n_jobs=-1,\n",
       "            oob_score=False, random_state=None, verbose=0,\n",
       "            warm_start=False)"
      ]
     },
     "execution_count": 11,
     "metadata": {},
     "output_type": "execute_result"
    }
   ],
   "source": [
    "clf.fit(train[features], diagnosisfactors)\n"
   ]
  },
  {
   "cell_type": "markdown",
   "metadata": {},
   "source": [
    "# Test our classifier using the test data set\n",
    "\n",
    "This makes predictions for each of the test data sets. For each sample we get a 0, 1, or 2 depending on whether we think it is CD, UC, or neither.\n",
    "\n",
    "Then we convert those predictions to the appropriate labels. We now have an array of predictions the same length as our test data set."
   ]
  },
  {
   "cell_type": "code",
   "execution_count": 12,
   "metadata": {
    "collapsed": false
   },
   "outputs": [
    {
     "data": {
      "text/plain": [
       "Index(['CD', 'CD', 'CD', 'UC', 'UC', 'CD', 'CD', 'CD', 'CD', 'nonIBD'], dtype='object')"
      ]
     },
     "execution_count": 12,
     "metadata": {},
     "output_type": "execute_result"
    }
   ],
   "source": [
    "clf.predict(test[features])\n",
    "predictions=labels[clf.predict(test[features])]\n",
    "predictions[0:10]"
   ]
  },
  {
   "cell_type": "markdown",
   "metadata": {},
   "source": [
    "And then we can compare those predictions to the test data set. Seems like we get the first ten correct!"
   ]
  },
  {
   "cell_type": "code",
   "execution_count": 13,
   "metadata": {
    "collapsed": false
   },
   "outputs": [
    {
     "data": {
      "text/plain": [
       "CSM5FZ3R_P    CD\n",
       "CSM5FZ44_P    CD\n",
       "CSM5FZ4G_P    UC\n",
       "CSM5FZ4K_P    UC\n",
       "CSM5MCUY_P    UC\n",
       "CSM5MCVN      CD\n",
       "CSM5MCVV_P    CD\n",
       "CSM5MCW4_P    CD\n",
       "CSM5MCWE      CD\n",
       "CSM5MCWK_P    CD\n",
       "Name: diagnoses, dtype: object"
      ]
     },
     "execution_count": 13,
     "metadata": {},
     "output_type": "execute_result"
    }
   ],
   "source": [
    "test.diagnoses[0:10]"
   ]
  },
  {
   "cell_type": "markdown",
   "metadata": {},
   "source": [
    "# How accurate is our classifier?\n",
    "\n",
    "The _confusion matrix_ is a really good way of figuring out if the classification works. In this matrix we have the actual dignoses in the rows, and the predicted diagnoses in the columns. The numbers in the diagonals tell us how many we got right, while the numbers off the diagonals tell us what we got wrong ... where we were confused!"
   ]
  },
  {
   "cell_type": "code",
   "execution_count": 14,
   "metadata": {
    "collapsed": false
   },
   "outputs": [
    {
     "data": {
      "text/html": [
       "<div>\n",
       "<table border=\"1\" class=\"dataframe\">\n",
       "  <thead>\n",
       "    <tr style=\"text-align: right;\">\n",
       "      <th>Predicted Diagnoses</th>\n",
       "      <th>CD</th>\n",
       "      <th>UC</th>\n",
       "      <th>nonIBD</th>\n",
       "    </tr>\n",
       "    <tr>\n",
       "      <th>Actual Diagnoses</th>\n",
       "      <th></th>\n",
       "      <th></th>\n",
       "      <th></th>\n",
       "    </tr>\n",
       "  </thead>\n",
       "  <tbody>\n",
       "    <tr>\n",
       "      <th>CD</th>\n",
       "      <td>136</td>\n",
       "      <td>4</td>\n",
       "      <td>5</td>\n",
       "    </tr>\n",
       "    <tr>\n",
       "      <th>UC</th>\n",
       "      <td>29</td>\n",
       "      <td>90</td>\n",
       "      <td>1</td>\n",
       "    </tr>\n",
       "    <tr>\n",
       "      <th>nonIBD</th>\n",
       "      <td>23</td>\n",
       "      <td>7</td>\n",
       "      <td>90</td>\n",
       "    </tr>\n",
       "  </tbody>\n",
       "</table>\n",
       "</div>"
      ],
      "text/plain": [
       "Predicted Diagnoses   CD  UC  nonIBD\n",
       "Actual Diagnoses                    \n",
       "CD                   136   4       5\n",
       "UC                    29  90       1\n",
       "nonIBD                23   7      90"
      ]
     },
     "execution_count": 14,
     "metadata": {},
     "output_type": "execute_result"
    }
   ],
   "source": [
    "pd.crosstab(test['diagnoses'], predictions, rownames=['Actual Diagnoses'], colnames=['Predicted Diagnoses'])"
   ]
  },
  {
   "cell_type": "markdown",
   "metadata": {},
   "source": [
    "# Find the most important genus/species for discriminating between disease states\n",
    "\n",
    "This takes the random forest importance feature plot and sorts by the importance. Note that we sort in reverse order to highlight the most important things.\n",
    "\n",
    "In this list the values are the importance of each variable, in this case, the importance of the species in predicting the diagnoses of the disease.\n",
    "\n",
    "_Bifidobacterium adolescentis_ is the most important predictor, but note that this does not tell you why! It may be that this is abundant in a disease state, or it may be that this is _not_ abundant in the disease state.\n"
   ]
  },
  {
   "cell_type": "code",
   "execution_count": 15,
   "metadata": {
    "collapsed": false
   },
   "outputs": [
    {
     "data": {
      "text/plain": [
       "[('Clostridium_bolteae', 0.019955005634273815),\n",
       " ('Dorea_formicigenerans', 0.019117687403742544),\n",
       " ('Alistipes_putredinis', 0.018784510477231182),\n",
       " ('Bacteroides_eggerthii', 0.017740048402737379),\n",
       " ('Faecalibacterium_prausnitzii', 0.01632631562173251),\n",
       " ('Lachnospiraceae_bacterium_7_1_58FAA', 0.016100671464421241),\n",
       " ('Burkholderiales_bacterium_1_1_47', 0.015775906343368677),\n",
       " ('Bacteroides_ovatus', 0.01576729126412128),\n",
       " ('Bacteroides_vulgatus', 0.015005463409777722),\n",
       " ('Eubacterium_ventriosum', 0.014795295341909945),\n",
       " ('Parabacteroides_goldsteinii', 0.014761052247161881),\n",
       " ('Bacteroides_thetaiotaomicron', 0.014756343610461553),\n",
       " ('Bacteroides_finegoldii', 0.014092533164758097),\n",
       " ('Bacteroides_stercoris', 0.013941982940559983),\n",
       " ('Lachnospiraceae_bacterium_3_1_46FAA', 0.01381138919321959),\n",
       " ('Bifidobacterium_adolescentis', 0.01358989874839966),\n",
       " ('Eubacterium_siraeum', 0.013267032630585979),\n",
       " ('Bacteroides_fragilis', 0.013028884476596923),\n",
       " ('Eubacterium_hallii', 0.0126931473760728),\n",
       " ('Bacteroides_uniformis', 0.012642876122358721),\n",
       " ('Bacteroides_dorei', 0.012567787375555393),\n",
       " ('Bifidobacterium_longum', 0.012380586262986101),\n",
       " ('Odoribacter_splanchnicus', 0.012219489695726385),\n",
       " ('Alistipes_shahii', 0.011675593960315263),\n",
       " ('Eubacterium_rectale', 0.011506452671337413),\n",
       " ('Dorea_longicatena', 0.011429918332199794),\n",
       " ('Alistipes_onderdonkii', 0.01082073564432442),\n",
       " ('Akkermansia_muciniphila', 0.010663369753780931),\n",
       " ('Haemophilus_parainfluenzae', 0.010636098925907483),\n",
       " ('Parabacteroides_merdae', 0.010225401683731056),\n",
       " ('Roseburia_intestinalis', 0.010083626542399526),\n",
       " ('Bacteroides_xylanisolvens', 0.0096547841982348014),\n",
       " ('Clostridium_leptum', 0.0095723979952375884),\n",
       " ('Alistipes_finegoldii', 0.0094358023092352451),\n",
       " ('Oscillibacter_unclassified', 0.0092828658325404788),\n",
       " ('Parasutterella_excrementihominis', 0.0091198081957850688),\n",
       " ('Prevotella_copri', 0.0087558286810463064),\n",
       " ('Parabacteroides_unclassified', 0.0087337174074648676),\n",
       " ('Ruminococcaceae_bacterium_D16', 0.0087231959485360704),\n",
       " ('Collinsella_aerofaciens', 0.0087156023350945036)]"
      ]
     },
     "execution_count": 15,
     "metadata": {},
     "output_type": "execute_result"
    }
   ],
   "source": [
    "ordered=list(sorted(zip(train[features], clf.feature_importances_), key=lambda species:species[1], reverse=True))\n",
    "ordered[:40]"
   ]
  },
  {
   "cell_type": "markdown",
   "metadata": {},
   "source": [
    "# Get the means\n",
    "\n",
    "Since we don't know whether _Bifidobacterium adolescentis_ is important for predicting healthy or diseased states, we can get the mean abundance of that species in the data. We group all the data by the diagnoses, and then get the means of the data.\n",
    "\n",
    "We limit this to the 60 most predictive samples (using the ordering above) so we can plot the data below.\n",
    "\n",
    "Again, our head() command summarizes the data frame, and note that we now have the samples in the same order as the list above! We can see that _Bifidobacterium adolescentis_ is very high in UC (~2x abundance compared to controls and ~6x abundance compared to CD), so perhaps that is a marker for UC versus CD or healthy people."
   ]
  },
  {
   "cell_type": "code",
   "execution_count": 16,
   "metadata": {
    "collapsed": false
   },
   "outputs": [
    {
     "data": {
      "text/html": [
       "<div>\n",
       "<table border=\"1\" class=\"dataframe\">\n",
       "  <thead>\n",
       "    <tr style=\"text-align: right;\">\n",
       "      <th></th>\n",
       "      <th>diagnoses</th>\n",
       "      <th>Clostridium_bolteae</th>\n",
       "      <th>Dorea_formicigenerans</th>\n",
       "      <th>Alistipes_putredinis</th>\n",
       "      <th>Bacteroides_eggerthii</th>\n",
       "      <th>Faecalibacterium_prausnitzii</th>\n",
       "      <th>Lachnospiraceae_bacterium_7_1_58FAA</th>\n",
       "      <th>Burkholderiales_bacterium_1_1_47</th>\n",
       "      <th>Bacteroides_ovatus</th>\n",
       "      <th>Bacteroides_vulgatus</th>\n",
       "      <th>...</th>\n",
       "      <th>Bacteroides_faecis</th>\n",
       "      <th>Clostridium_symbiosum</th>\n",
       "      <th>Ruminococcus_bromii</th>\n",
       "      <th>Bilophila_wadsworthia</th>\n",
       "      <th>Flavonifractor_plautii</th>\n",
       "      <th>Lachnospiraceae_bacterium_5_1_63FAA</th>\n",
       "      <th>Roseburia_hominis</th>\n",
       "      <th>Clostridiaceae_bacterium_JC118</th>\n",
       "      <th>Parabacteroides_distasonis</th>\n",
       "      <th>Ruminococcus_callidus</th>\n",
       "    </tr>\n",
       "  </thead>\n",
       "  <tbody>\n",
       "    <tr>\n",
       "      <th>0</th>\n",
       "      <td>CD</td>\n",
       "      <td>0.006223</td>\n",
       "      <td>0.000678</td>\n",
       "      <td>0.028139</td>\n",
       "      <td>0.003993</td>\n",
       "      <td>0.092932</td>\n",
       "      <td>0.001031</td>\n",
       "      <td>0.000817</td>\n",
       "      <td>0.042000</td>\n",
       "      <td>0.064718</td>\n",
       "      <td>...</td>\n",
       "      <td>0.006102</td>\n",
       "      <td>0.002152</td>\n",
       "      <td>0.002086</td>\n",
       "      <td>0.000393</td>\n",
       "      <td>0.001309</td>\n",
       "      <td>0.000436</td>\n",
       "      <td>0.002032</td>\n",
       "      <td>0.000082</td>\n",
       "      <td>0.013520</td>\n",
       "      <td>0.000255</td>\n",
       "    </tr>\n",
       "    <tr>\n",
       "      <th>1</th>\n",
       "      <td>UC</td>\n",
       "      <td>0.002207</td>\n",
       "      <td>0.001029</td>\n",
       "      <td>0.021040</td>\n",
       "      <td>0.018673</td>\n",
       "      <td>0.116517</td>\n",
       "      <td>0.001002</td>\n",
       "      <td>0.002092</td>\n",
       "      <td>0.043008</td>\n",
       "      <td>0.087743</td>\n",
       "      <td>...</td>\n",
       "      <td>0.004092</td>\n",
       "      <td>0.001320</td>\n",
       "      <td>0.002779</td>\n",
       "      <td>0.000173</td>\n",
       "      <td>0.001249</td>\n",
       "      <td>0.000453</td>\n",
       "      <td>0.003057</td>\n",
       "      <td>0.000268</td>\n",
       "      <td>0.010540</td>\n",
       "      <td>0.000298</td>\n",
       "    </tr>\n",
       "    <tr>\n",
       "      <th>2</th>\n",
       "      <td>nonIBD</td>\n",
       "      <td>0.001763</td>\n",
       "      <td>0.000777</td>\n",
       "      <td>0.044515</td>\n",
       "      <td>0.015688</td>\n",
       "      <td>0.124156</td>\n",
       "      <td>0.000554</td>\n",
       "      <td>0.001232</td>\n",
       "      <td>0.018698</td>\n",
       "      <td>0.052504</td>\n",
       "      <td>...</td>\n",
       "      <td>0.003299</td>\n",
       "      <td>0.001301</td>\n",
       "      <td>0.010239</td>\n",
       "      <td>0.000340</td>\n",
       "      <td>0.000972</td>\n",
       "      <td>0.000310</td>\n",
       "      <td>0.004495</td>\n",
       "      <td>0.000075</td>\n",
       "      <td>0.007083</td>\n",
       "      <td>0.001312</td>\n",
       "    </tr>\n",
       "  </tbody>\n",
       "</table>\n",
       "<p>3 rows × 61 columns</p>\n",
       "</div>"
      ],
      "text/plain": [
       "  diagnoses  Clostridium_bolteae  Dorea_formicigenerans  Alistipes_putredinis  \\\n",
       "0        CD             0.006223               0.000678              0.028139   \n",
       "1        UC             0.002207               0.001029              0.021040   \n",
       "2    nonIBD             0.001763               0.000777              0.044515   \n",
       "\n",
       "   Bacteroides_eggerthii  Faecalibacterium_prausnitzii  \\\n",
       "0               0.003993                      0.092932   \n",
       "1               0.018673                      0.116517   \n",
       "2               0.015688                      0.124156   \n",
       "\n",
       "   Lachnospiraceae_bacterium_7_1_58FAA  Burkholderiales_bacterium_1_1_47  \\\n",
       "0                             0.001031                          0.000817   \n",
       "1                             0.001002                          0.002092   \n",
       "2                             0.000554                          0.001232   \n",
       "\n",
       "   Bacteroides_ovatus  Bacteroides_vulgatus          ...            \\\n",
       "0            0.042000              0.064718          ...             \n",
       "1            0.043008              0.087743          ...             \n",
       "2            0.018698              0.052504          ...             \n",
       "\n",
       "   Bacteroides_faecis  Clostridium_symbiosum  Ruminococcus_bromii  \\\n",
       "0            0.006102               0.002152             0.002086   \n",
       "1            0.004092               0.001320             0.002779   \n",
       "2            0.003299               0.001301             0.010239   \n",
       "\n",
       "   Bilophila_wadsworthia  Flavonifractor_plautii  \\\n",
       "0               0.000393                0.001309   \n",
       "1               0.000173                0.001249   \n",
       "2               0.000340                0.000972   \n",
       "\n",
       "   Lachnospiraceae_bacterium_5_1_63FAA  Roseburia_hominis  \\\n",
       "0                             0.000436           0.002032   \n",
       "1                             0.000453           0.003057   \n",
       "2                             0.000310           0.004495   \n",
       "\n",
       "   Clostridiaceae_bacterium_JC118  Parabacteroides_distasonis  \\\n",
       "0                        0.000082                    0.013520   \n",
       "1                        0.000268                    0.010540   \n",
       "2                        0.000075                    0.007083   \n",
       "\n",
       "   Ruminococcus_callidus  \n",
       "0               0.000255  \n",
       "1               0.000298  \n",
       "2               0.001312  \n",
       "\n",
       "[3 rows x 61 columns]"
      ]
     },
     "execution_count": 16,
     "metadata": {},
     "output_type": "execute_result"
    }
   ],
   "source": [
    "differential=df.groupby('diagnoses', as_index=False)[[o[0] for o in ordered[:60]]].mean()\n",
    "differential.head()"
   ]
  },
  {
   "cell_type": "markdown",
   "metadata": {},
   "source": [
    "# Plotting the data\n",
    "\n",
    "We can make a simple plot of this data. Note that I just disable the legend as it would be 60 entries long - one for each bacterial species.\n",
    "\n",
    "However, this is not really an informative plot. We don't want to compare between diagnoses, we want to compare within them."
   ]
  },
  {
   "cell_type": "code",
   "execution_count": 17,
   "metadata": {
    "collapsed": false
   },
   "outputs": [
    {
     "data": {
      "image/png": "[encoded data removed]",
      "text/plain": [
       "<matplotlib.figure.Figure at 0x7f0931c805f8>"
      ]
     },
     "metadata": {},
     "output_type": "display_data"
    }
   ],
   "source": [
    "fig = differential.plot(x='diagnoses', kind='bar', legend=False)"
   ]
  },
  {
   "cell_type": "markdown",
   "metadata": {},
   "source": [
    "# Transpose and plot\n",
    "\n",
    "Since we want to compare with a single species, we transpose the data and plot organized by species. We also label the columns appropriately."
   ]
  },
  {
   "cell_type": "code",
   "execution_count": 18,
   "metadata": {
    "collapsed": true
   },
   "outputs": [],
   "source": [
    "tdf = differential.transpose()[1:]\n",
    "tdf = tdf.rename(columns={0:'CD', 1:'UC', 2:'nonIBD'})"
   ]
  },
  {
   "cell_type": "markdown",
   "metadata": {},
   "source": [
    "# Plot the data\n",
    "\n",
    "Here we make a larger plot (using figsize - the numbers are in inches not pixels), and manipulate the plot a little to make it look good.\n",
    "\n",
    "This plot shows the abundance of different species in CD, UC, or controls. Almost ready to be published!"
   ]
  },
  {
   "cell_type": "code",
   "execution_count": 19,
   "metadata": {
    "collapsed": false
   },
   "outputs": [
    {
     "data": {
      "image/png": "[encoded data removed]",
      "text/plain": [
       "<matplotlib.figure.Figure at 0x7f0931621fd0>"
      ]
     },
     "metadata": {},
     "output_type": "display_data"
    }
   ],
   "source": [
    "tplot=tdf.plot(kind='bar',figsize=(33, 24))\n",
    "tplot.legend(loc='upper center', ncol=3)\n",
    "tfig = tplot.get_figure()\n",
    "tfig.tight_layout()\n",
    "tfig.savefig('ibduc.png')"
   ]
  }
 ],
 "metadata": {
  "kernelspec": {
   "display_name": "Python 3",
   "language": "python",
   "name": "python3"
  },
  "language_info": {
   "codemirror_mode": {
    "name": "ipython",
    "version": 3
   },
   "file_extension": ".py",
   "mimetype": "text/x-python",
   "name": "python",
   "nbconvert_exporter": "python",
   "pygments_lexer": "ipython3",
   "version": "3.6.3"
  }
 },
 "nbformat": 4,
 "nbformat_minor": 2
}
